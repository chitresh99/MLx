{
 "cells": [
  {
   "cell_type": "markdown",
   "metadata": {},
   "source": [
    "# Opearators"
   ]
  },
  {
   "cell_type": "markdown",
   "metadata": {},
   "source": [
    "# Arithermatic Operators"
   ]
  },
  {
   "cell_type": "code",
   "execution_count": 7,
   "metadata": {},
   "outputs": [
    {
     "name": "stdout",
     "output_type": "stream",
     "text": [
      "5\n",
      "-1\n",
      "30\n",
      "0.8333333333333334\n",
      "2\n",
      "1\n",
      "25\n"
     ]
    }
   ],
   "source": [
    "print(3+2)\n",
    "print(5-6)\n",
    "print(5*6)\n",
    "print(5/6)\n",
    "print(5//2) #interger division converts decimal to integer\n",
    "print(5%2) #remainder\n",
    "print(5**2) #power operator here we wrote 5 ^ 2"
   ]
  },
  {
   "cell_type": "markdown",
   "metadata": {},
   "source": [
    "# Relational Operators"
   ]
  },
  {
   "cell_type": "code",
   "execution_count": 8,
   "metadata": {},
   "outputs": [
    {
     "name": "stdout",
     "output_type": "stream",
     "text": [
      "False\n",
      "True\n",
      "True\n",
      "True\n",
      "False\n"
     ]
    }
   ],
   "source": [
    "print(4>5)\n",
    "print(4<5)\n",
    "print(4<= 5)\n",
    "print(4==4)\n",
    "print(4!=4)"
   ]
  },
  {
   "cell_type": "markdown",
   "metadata": {},
   "source": [
    "# Logical Operators\n",
    "\n",
    "AND OR AND NOR\n",
    "\n",
    "AND -> Returns true if both the statments are true\n",
    "OR -> Returns true if one of the statements is true\n",
    "Not -> Reverse , returns false if the result is true"
   ]
  },
  {
   "cell_type": "code",
   "execution_count": 9,
   "metadata": {},
   "outputs": [
    {
     "name": "stdout",
     "output_type": "stream",
     "text": [
      "1\n",
      "1\n"
     ]
    }
   ],
   "source": [
    "print(1 and 1)\n",
    "\n",
    "print (1 or 0) # 1 is true 0 is falses"
   ]
  },
  {
   "cell_type": "code",
   "execution_count": 10,
   "metadata": {},
   "outputs": [
    {
     "name": "stdout",
     "output_type": "stream",
     "text": [
      "2\n",
      "3\n",
      "1\n",
      "-4\n",
      "1\n",
      "16\n"
     ]
    }
   ],
   "source": [
    "# Bitwise Operators\n",
    "\n",
    "print(2 & 3)\n",
    "\n",
    "# Reason -> 010 and 110 => 010\n",
    "\n",
    "print( 2 | 3)\n",
    "\n",
    "print( 2 ^ 3) # here if both are same then it will be zero other wise itn will be one\n",
    "\n",
    "\n",
    "print(~3) # this will change all the bit patterns in here like if it's zero it will be one and if it's one it will be zero\n",
    "\n",
    "print(4 >> 2) # shifting binary by 2 this is bitwise left\n",
    "\n",
    "print(4 << 2) #shifting binary by 2 bitwise right"
   ]
  },
  {
   "cell_type": "code",
   "execution_count": 11,
   "metadata": {},
   "outputs": [
    {
     "name": "stdout",
     "output_type": "stream",
     "text": [
      "4\n"
     ]
    }
   ],
   "source": [
    "# assignment operator \n",
    "\n",
    "# a = a + 2 \n",
    "\n",
    "a = 2\n",
    "a += 2\n",
    "print(a)"
   ]
  },
  {
   "cell_type": "code",
   "execution_count": 12,
   "metadata": {},
   "outputs": [
    {
     "name": "stdout",
     "output_type": "stream",
     "text": [
      "False\n",
      "False\n"
     ]
    }
   ],
   "source": [
    "# Membership operator \n",
    "\n",
    "# in/not in\n",
    "\n",
    "print('D' not in 'Delhi')\n",
    "print(1 in [2,3,4,5,6])"
   ]
  },
  {
   "cell_type": "markdown",
   "metadata": {},
   "source": [
    "# Question \n",
    "\n",
    "# Program -> Find the sum of a 3 digit number entered by the user"
   ]
  },
  {
   "cell_type": "code",
   "execution_count": 16,
   "metadata": {},
   "outputs": [
    {
     "name": "stdout",
     "output_type": "stream",
     "text": [
      "12\n"
     ]
    }
   ],
   "source": [
    "number = int(input(\"enter a three digit number\"))\n",
    "a = number%10\n",
    "\n",
    "number = (number//10)\n",
    "\n",
    "b = number % 10\n",
    "\n",
    "number = number //10\n",
    "\n",
    "c = number % 10\n",
    "\n",
    "print(a+b+c)"
   ]
  },
  {
   "cell_type": "code",
   "execution_count": null,
   "metadata": {},
   "outputs": [],
   "source": [
    "email = input('enter your emal')\n",
    "password = input(\"enter you password\")\n",
    "\n",
    "if email  == 'chitresh@gmail.com' and password == '1234':\n",
    "    print('welcome')\n",
    "elif email  == 'chitresh@gmail.com' and password != '1234':\n",
    "    print('incorrect password')\n",
    "    password = input('enter password again')\n",
    "    if password == '1234' : \n",
    "        print('welcome again')\n",
    "else : \n",
    "    print('unknown')\n"
   ]
  },
  {
   "cell_type": "code",
   "execution_count": 2,
   "metadata": {},
   "outputs": [
    {
     "name": "stdout",
     "output_type": "stream",
     "text": [
      "smallest is 5\n"
     ]
    }
   ],
   "source": [
    "a = int(input('first num'))\n",
    "b = int(input('second num'))\n",
    "c = int(input('third num'))\n",
    "\n",
    "if a < b and a < c :\n",
    "    print('smallest is', a)\n",
    "elif b < c : \n",
    "    print('samllest is',b)\n",
    "else: \n",
    "    print('smallest is', c)"
   ]
  },
  {
   "cell_type": "code",
   "execution_count": 6,
   "metadata": {},
   "outputs": [
    {
     "name": "stdout",
     "output_type": "stream",
     "text": [
      "pin change\n"
     ]
    }
   ],
   "source": [
    "menu = input(\"\"\"\n",
    "Hi ! how can i help you today\n",
    "        1. enter 1 for pin change\n",
    "        2.enter 2 for balance check\n",
    "        3.enter 3 for withdrawl\n",
    "        4.enter 4 for exit\"\"\")\n",
    "\n",
    "if menu == '1':\n",
    "   print('pin change')\n",
    "elif menu == '2':\n",
    "   print('balance')\n",
    "else:\n",
    "   print('exit')"
   ]
  },
  {
   "cell_type": "markdown",
   "metadata": {},
   "source": [
    "Modules in python\n",
    "\n",
    "There is a math module which does the math for us\n",
    "There is a keyword module too which gives us the list of keyword in python"
   ]
  },
  {
   "cell_type": "code",
   "execution_count": 7,
   "metadata": {},
   "outputs": [
    {
     "data": {
      "text/plain": [
       "6"
      ]
     },
     "execution_count": 7,
     "metadata": {},
     "output_type": "execute_result"
    }
   ],
   "source": [
    "import math\n",
    "math.floor(6.8)"
   ]
  },
  {
   "cell_type": "code",
   "execution_count": null,
   "metadata": {},
   "outputs": [],
   "source": [
    "import keyword\n",
    "print(keyword.kwlist)"
   ]
  },
  {
   "cell_type": "code",
   "execution_count": 13,
   "metadata": {},
   "outputs": [
    {
     "name": "stdout",
     "output_type": "stream",
     "text": [
      "38\n"
     ]
    },
    {
     "data": {
      "text/plain": [
       "'not'"
      ]
     },
     "execution_count": 13,
     "metadata": {},
     "output_type": "execute_result"
    }
   ],
   "source": [
    "import random\n",
    "print(random.randint(1,100))\n",
    "a = ['off','it','on','not']\n",
    "random.choice(a)"
   ]
  },
  {
   "cell_type": "code",
   "execution_count": 9,
   "metadata": {},
   "outputs": [
    {
     "name": "stdout",
     "output_type": "stream",
     "text": [
      "2024-08-25 17:01:59.460978\n"
     ]
    }
   ],
   "source": [
    "import datetime\n",
    "print(datetime.datetime.now())"
   ]
  },
  {
   "cell_type": "code",
   "execution_count": 11,
   "metadata": {},
   "outputs": [
    {
     "name": "stdout",
     "output_type": "stream",
     "text": [
      "\n",
      "Please wait a moment while I gather a list of all available modules...\n",
      "\n",
      "test_sqlite3: testing with SQLite version 3.43.1\n"
     ]
    },
    {
     "name": "stderr",
     "output_type": "stream",
     "text": [
      "904438 INFO: Generating grammar tables from c:\\Program Files\\Python312\\Lib\\lib2to3\\Grammar.txt\n",
      "904471 INFO: Writing grammar tables to c:\\Program Files\\Python312\\Lib\\lib2to3\\Grammar3.12.1.final.0.pickle\n",
      "904471 INFO: Writing failed: [Errno 13] Permission denied: 'c:\\\\Program Files\\\\Python312\\\\Lib\\\\lib2to3\\\\Grammar3.12.1.final.0.pickle'\n",
      "904476 INFO: Generating grammar tables from c:\\Program Files\\Python312\\Lib\\lib2to3\\PatternGrammar.txt\n",
      "904484 INFO: Writing grammar tables to c:\\Program Files\\Python312\\Lib\\lib2to3\\PatternGrammar3.12.1.final.0.pickle\n",
      "904484 INFO: Writing failed: [Errno 13] Permission denied: 'c:\\\\Program Files\\\\Python312\\\\Lib\\\\lib2to3\\\\PatternGrammar3.12.1.final.0.pickle'\n",
      "c:\\Program Files\\Python312\\Lib\\pkgutil.py:78: UserWarning: The numpy.array_api submodule is still experimental. See NEP 47.\n",
      "  __import__(info.name)\n",
      "c:\\Program Files\\Python312\\Lib\\pkgutil.py:78: DeprecationWarning: pkg_resources is deprecated as an API. See https://setuptools.pypa.io/en/latest/pkg_resources.html\n",
      "  __import__(info.name)\n",
      "C:\\Users\\CHITRESH.LAPTOP-DAD6S1E5\\AppData\\Roaming\\Python\\Python312\\site-packages\\pydub\\utils.py:14: DeprecationWarning: 'audioop' is deprecated and slated for removal in Python 3.13\n",
      "  import audioop\n",
      "C:\\Users\\CHITRESH.LAPTOP-DAD6S1E5\\AppData\\Roaming\\Python\\Python312\\site-packages\\pydub\\utils.py:170: RuntimeWarning: Couldn't find ffmpeg or avconv - defaulting to ffmpeg, but may not work\n",
      "  warn(\"Couldn't find ffmpeg or avconv - defaulting to ffmpeg, but may not work\", RuntimeWarning)\n",
      "<frozen importlib._bootstrap>:488: DeprecationWarning: Type google._upb._message.MessageMapContainer uses PyType_Spec with a metaclass that has custom tp_new. This is deprecated and will no longer be allowed in Python 3.14.\n",
      "<frozen importlib._bootstrap>:488: DeprecationWarning: Type google._upb._message.ScalarMapContainer uses PyType_Spec with a metaclass that has custom tp_new. This is deprecated and will no longer be allowed in Python 3.14.\n"
     ]
    },
    {
     "name": "stdout",
     "output_type": "stream",
     "text": [
      "IPython             cmath               mimetypes           ssl\n",
      "PIL                 cmd                 mistune             sspi\n",
      "PyInstaller         code                mlxtend             sspicon\n",
      "PyQt5               codecs              mmap                stack_data\n",
      "__future__          codeop              mmapfile            start_pythonwin\n",
      "__hello__           collections         mmsystem            stat\n",
      "__phello__          colorama            modulefinder        statistics\n",
      "_abc                colorsys            mpl_toolkits        streamlit\n",
      "_aix_support        comm                mpmath              string\n",
      "_argon2_cffi_bindings commctrl            msilib              stringprep\n",
      "_ast                compileall          msvcrt              struct\n",
      "_asyncio            concurrent          multiprocessing     subprocess\n",
      "_bisect             configparser        multitasking        sunau\n",
      "_blake2             contextlib          mysql               sympy\n",
      "_bz2                contextvars         mysqlx              symtable\n",
      "_cffi_backend       contourpy           nbclient            sys\n",
      "_codecs             copy                nbconvert           sysconfig\n",
      "_codecs_cn          copyreg             nbformat            tabnanny\n",
      "_codecs_hk          crypt               nest_asyncio        tarfile\n",
      "_codecs_iso2022     csv                 netbios             telnetlib\n",
      "_codecs_jp          ctypes              netrc               tempfile\n",
      "_codecs_kr          curses              networkx            tenacity\n",
      "_codecs_tw          customtkinter       nltk                terminado\n",
      "_collections        cx_Freeze           nntplib             test\n",
      "_collections_abc    cx_Logging          notebook            textwrap\n",
      "_compat_pickle      cycler              notebook_shim       this\n",
      "_compression        darkdetect          nt                  threading\n",
      "_contextvars        dataclasses         ntpath              threadpoolctl\n",
      "_csv                datetime            ntsecuritycon       time\n",
      "_ctypes             dateutil            nturl2path          timeit\n",
      "_ctypes_test        dbi                 numbers             timer\n",
      "_datetime           dbm                 numpy               tinycss2\n",
      "_decimal            dde                 odbc                tkinter\n",
      "_distutils_hack     debugpy             opcode              tkintermapview\n",
      "_elementtree        decimal             operator            tlz\n",
      "_functools          decorator           optparse            token\n",
      "_hashlib            defusedxml          ordlookup           tokenize\n",
      "_heapq              difflib             os                  tokenizers\n",
      "_imp                dis                 overrides           toml\n",
      "_io                 distlib             packaging           tomllib\n",
      "_json               doctest             pandas              toolz\n",
      "_locale             email               pandocfilters       tornado\n",
      "_lsprof             encodings           parso               tqdm\n",
      "_lzma               ensurepip           past                trace\n",
      "_markupbase         enum                pathlib             traceback\n",
      "_md5                errno               pdb                 tracemalloc\n",
      "_msi                executing           peewee              traitlets\n",
      "_multibytecodec     fastjsonschema      pefile              tty\n",
      "_multiprocessing    faulthandler        perfmon             turtle\n",
      "_mysql_connector    filecmp             peutils             turtledemo\n",
      "_opcode             fileinput           pickle              types\n",
      "_operator           filelock            pickletools         typing\n",
      "_osx_support        flask               pip                 typing_extensions\n",
      "_overlapped         fnmatch             pipes               tzdata\n",
      "_pickle             fontTools           pkg_resources       tzlocal\n",
      "_py_abc             fqdn                pkgutil             unicodedata\n",
      "_pydatetime         fractions           platform            unittest\n",
      "_pydecimal          frozendict          platformdirs        uri_template\n",
      "_pyinstaller_hooks_contrib fsspec              playhouse           urllib\n",
      "_pyio               ftplib              plistlib            urllib3\n",
      "_pylong             functools           poplib              uu\n",
      "_queue              future              posixpath           uuid\n",
      "_random             gc                  pprint              validators\n",
      "_sha1               genericpath         profile             vboxapi\n",
      "_sha2               geocoder            progressbar         venv\n",
      "_sha3               getopt              prometheus_client   virtualenv\n",
      "_signal             getpass             prompt_toolkit      warnings\n",
      "_sitebuiltins       gettext             pstats              watchdog\n",
      "_socket             git                 psutil              wave\n",
      "_sqlite3            gitdb               pty                 wcwidth\n",
      "_sre                glob                pure_eval           weakref\n",
      "_ssl                googletrans         pwiz                webbrowser\n",
      "_stat               graphlib            py_compile          webcolors\n",
      "_statistics         gzip                pyarrow             webencodings\n",
      "_string             h11                 pyclbr              websocket\n",
      "_strptime           h2                  pycparser           werkzeug\n",
      "_struct             hashlib             pydeck              wheel\n",
      "_symtable           heapq               pydoc               widgetsnbextension\n",
      "_testbuffer         hmac                pydoc_data          win2kras\n",
      "_testcapi           hpack               pydub               win32api\n",
      "_testclinic         hstspreload         pyexpat             win32clipboard\n",
      "_testconsole        html                pygments            win32com\n",
      "_testimportmultiple html5lib            pylab               win32con\n",
      "_testinternalcapi   http                pymysql             win32console\n",
      "_testmultiphase     httpcore            pyparsing           win32cred\n",
      "_testsinglephase    httpx               pyperclip           win32crypt\n",
      "_thread             huggingface_hub     pythoncom           win32cryptcon\n",
      "_threading_local    hyperframe          pythonjsonlogger    win32ctypes\n",
      "_tkinter            idlelib             pythumb             win32event\n",
      "_tokenize           idna                pytube              win32evtlog\n",
      "_tracemalloc        imaplib             pytz                win32evtlogutil\n",
      "_typing             imghdr              pywin               win32file\n",
      "_uuid               importlib           pywin32_bootstrap   win32gui\n",
      "_warnings           importlib_metadata  pywin32_testutil    win32gui_struct\n",
      "_weakref            inspect             pywintypes          win32help\n",
      "_weakrefset         io                  qtconsole           win32inet\n",
      "_win32sysloader     ipaddress           qtpy                win32inetcon\n",
      "_winapi             ipykernel           queue               win32job\n",
      "_winxptheme         ipykernel_launcher  quopri              win32lz\n",
      "_wmi                ipywidgets          random              win32net\n",
      "_xxinterpchannels   isapi               rasutil             win32netcon\n",
      "_xxsubinterpreters  isoduration         ratelim             win32pdh\n",
      "_yaml               isympy              re                  win32pdhquery\n",
      "_zoneinfo           itertools           referencing         win32pdhutil\n",
      "abc                 itsdangerous        regcheck            win32pipe\n",
      "adodbapi            jedi                regex               win32print\n",
      "afxres              jinja2              regutil             win32process\n",
      "aifc                joblib              reprlib             win32profile\n",
      "altair              json                requests            win32ras\n",
      "altgraph            json5               rfc3339_validator   win32rcparser\n",
      "antigravity         jsonpointer         rfc3986             win32security\n",
      "anyio               jsonschema          rfc3986_validator   win32service\n",
      "argon2              jsonschema_specifications rich                win32serviceutil\n",
      "argparse            jupyter             rlcompleter         win32timezone\n",
      "array               jupyter_client      rpds                win32trace\n",
      "arrow               jupyter_console     runpy               win32traceutil\n",
      "ast                 jupyter_core        safetensors         win32transaction\n",
      "asttokens           jupyter_events      sched               win32ts\n",
      "async_lru           jupyter_lsp         scipy               win32ui\n",
      "asyncio             jupyter_server      seaborn             win32uiole\n",
      "atexit              jupyter_server_terminals secrets             win32verstamp\n",
      "attr                jupyterlab          select              win32wnet\n",
      "attrs               jupyterlab_pygments selectors           winerror\n",
      "audioop             jupyterlab_server   self                winioctlcon\n",
      "babel               jupyterlab_widgets  send2trash          winnt\n",
      "base64              keyword             servicemanager      winperf\n",
      "bdb                 kiwisolver          setuptools          winpty\n",
      "binascii            lib2to3             shelve              winreg\n",
      "bisect              libfuturize         shlex               winsound\n",
      "bleach              libpasteurize       shutil              winxpgui\n",
      "blinker             lief                signal              winxptheme\n",
      "bs4                 linecache           site                wsgiref\n",
      "builtins            locale              six                 xdrlib\n",
      "bz2                 logging             sklearn             xml\n",
      "cProfile            lxml                smmap               xmlrpc\n",
      "cachetools          lzma                smtplib             xxsubtype\n",
      "calendar            mailbox             sndhdr              yaml\n",
      "certifi             mailcap             sniffio             yfinance\n",
      "cffi                markdown_it         socket              zipapp\n",
      "cgi                 markupsafe          socketserver        zipfile\n",
      "cgitb               marshal             soupsieve           zipimport\n",
      "chardet             math                sqlite3             zipp\n",
      "charset_normalizer  matplotlib          sre_compile         zlib\n",
      "chunk               matplotlib_inline   sre_constants       zmq\n",
      "click               mdurl               sre_parse           zoneinfo\n",
      "\n",
      "Enter any module name to get more help.  Or, type \"modules spam\" to search\n",
      "for modules whose name or summary contain the string \"spam\".\n",
      "\n"
     ]
    },
    {
     "name": "stderr",
     "output_type": "stream",
     "text": [
      "c:\\Program Files\\Python312\\Lib\\site-packages\\nltk\\twitter\\__init__.py:20: UserWarning: The twython library has not been installed. Some functionality from the twitter package will not be available.\n",
      "  warnings.warn(\n",
      "c:\\Program Files\\Python312\\Lib\\site-packages\\vboxapi-1.0-py3.12.egg\\vboxapi\\__init__.py:73: SyntaxWarning: invalid escape sequence '\\P'\n",
      "c:\\Program Files\\Python312\\Lib\\site-packages\\vboxapi-1.0-py3.12.egg\\vboxapi\\__init__.py:73: SyntaxWarning: invalid escape sequence '\\P'\n"
     ]
    }
   ],
   "source": [
    "help('modules')"
   ]
  },
  {
   "cell_type": "markdown",
   "metadata": {},
   "source": [
    "# Loops in python\n",
    "\n",
    "Need for loops\n",
    "while loop\n",
    "for loop\n",
    "\n",
    "\n",
    "Need for loops -> Information displayed on shopping websites,where the information is displayed in a format , so we can't write a container for every product so the loops run the number of times the product is there in the database"
   ]
  },
  {
   "cell_type": "code",
   "execution_count": 18,
   "metadata": {},
   "outputs": [
    {
     "name": "stdout",
     "output_type": "stream",
     "text": [
      "12 * 1 = 12\n",
      "12 * 2 = 24\n",
      "12 * 3 = 36\n",
      "12 * 4 = 48\n",
      "12 * 5 = 60\n",
      "12 * 6 = 72\n",
      "12 * 7 = 84\n",
      "12 * 8 = 96\n",
      "12 * 9 = 108\n",
      "12 * 10 = 120\n"
     ]
    }
   ],
   "source": [
    "number = int(input('enter a number'))\n",
    "\n",
    "i = 1\n",
    "while i < 11 :\n",
    "    print(number,'*',i,'=',number * i)\n",
    "    i += 1 #increment"
   ]
  },
  {
   "cell_type": "code",
   "execution_count": 21,
   "metadata": {},
   "outputs": [],
   "source": [
    "# Guessing Game\n",
    "\n",
    "# generate a random integer between 1 and 100\n",
    "\n",
    "import random\n",
    "jackpot = random.randint(1,100)\n",
    "\n",
    "guess = int(input('guess karo'))\n",
    "counter = 1\n",
    "while guess != jackpot:\n",
    "    if guess < jackpot:\n",
    "        print('galat!guess higher')\n",
    "    else : \n",
    "        print('galat!guess is lower')\n",
    "\n",
    "    guess = int(input('guess karo'))\n",
    "    counter += 1\n",
    "\n",
    "else :\n",
    "    print('correct guess')\n",
    "    print('attempts',counter)\n",
    "\n"
   ]
  },
  {
   "cell_type": "code",
   "execution_count": 23,
   "metadata": {},
   "outputs": [
    {
     "name": "stdout",
     "output_type": "stream",
     "text": [
      "1\n",
      "3\n",
      "5\n",
      "7\n",
      "9\n"
     ]
    }
   ],
   "source": [
    "#here is 2 is the step size\n",
    "for i in range(1,11,2):\n",
    "  print(i)"
   ]
  },
  {
   "cell_type": "markdown",
   "metadata": {},
   "source": [
    "Program - The current population of a town is 10000. The population of the town is increasing at the rate of 10% per year. You have to write a program to find out the population at the end of each of the last 10 years."
   ]
  },
  {
   "cell_type": "code",
   "execution_count": 26,
   "metadata": {},
   "outputs": [
    {
     "name": "stdout",
     "output_type": "stream",
     "text": [
      "9000.0\n",
      "8100.0\n",
      "7290.0\n",
      "6561.0\n",
      "5904.9\n",
      "5314.41\n",
      "4782.969\n",
      "4304.6721\n",
      "3874.20489\n",
      "3486.784401\n"
     ]
    }
   ],
   "source": [
    "curr_pop = 10000\n",
    "\n",
    "for i in range(10,0,-1):\n",
    "    curr_pop = curr_pop - 0.1 * curr_pop\n",
    "    print(curr_pop)\n"
   ]
  },
  {
   "cell_type": "code",
   "execution_count": null,
   "metadata": {},
   "outputs": [],
   "source": []
  }
 ],
 "metadata": {
  "kernelspec": {
   "display_name": "Python 3",
   "language": "python",
   "name": "python3"
  },
  "language_info": {
   "codemirror_mode": {
    "name": "ipython",
    "version": 3
   },
   "file_extension": ".py",
   "mimetype": "text/x-python",
   "name": "python",
   "nbconvert_exporter": "python",
   "pygments_lexer": "ipython3",
   "version": "3.12.1"
  }
 },
 "nbformat": 4,
 "nbformat_minor": 2
}
