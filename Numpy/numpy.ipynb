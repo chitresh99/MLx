{
 "cells": [
  {
   "cell_type": "markdown",
   "metadata": {},
   "source": [
    "## Creating a Numpy array\n",
    "\n",
    "\n"
   ]
  },
  {
   "cell_type": "code",
   "execution_count": 2,
   "metadata": {},
   "outputs": [],
   "source": [
    "#Importing numpy\n",
    "\n",
    "import numpy as np"
   ]
  },
  {
   "cell_type": "code",
   "execution_count": 3,
   "metadata": {},
   "outputs": [
    {
     "name": "stdout",
     "output_type": "stream",
     "text": [
      "[1 2 3]\n",
      "<class 'numpy.ndarray'>\n"
     ]
    }
   ],
   "source": [
    "# We can create a numpy array using a function called np.array\n",
    "\n",
    "a = np.array([1,2,3])\n",
    "print(a) # This is a 1d array\n",
    "\n",
    "# How do we know it's a numpy array, we can know it's a numpy array by finding it's type\n",
    "\n",
    "print(type(a))"
   ]
  },
  {
   "cell_type": "code",
   "execution_count": 4,
   "metadata": {},
   "outputs": [
    {
     "name": "stdout",
     "output_type": "stream",
     "text": [
      "[[1 2 3]\n",
      " [4 5 6]]\n"
     ]
    }
   ],
   "source": [
    "#2d\n",
    "# we can also call this a matrix\n",
    "\n",
    "b = np.array([[1,2,3],[4,5,6]])\n",
    "print(b)"
   ]
  },
  {
   "cell_type": "code",
   "execution_count": 5,
   "metadata": {},
   "outputs": [
    {
     "name": "stdout",
     "output_type": "stream",
     "text": [
      "[[[1 2]\n",
      "  [2 3]\n",
      "  [4 5]\n",
      "  [6 7]]]\n"
     ]
    }
   ],
   "source": [
    "# 3d\n",
    "c = np.array([[[1,2],[2,3],[4,5],[6,7]]])\n",
    "print(c)"
   ]
  },
  {
   "cell_type": "code",
   "execution_count": 6,
   "metadata": {},
   "outputs": [
    {
     "data": {
      "text/plain": [
       "array([1., 2., 3.])"
      ]
     },
     "execution_count": 6,
     "metadata": {},
     "output_type": "execute_result"
    }
   ],
   "source": [
    "# dtype\n",
    "# By default the data types of array are integers\n",
    "# We can also create a array of float\n",
    "\n",
    "np.array([1,2,3],dtype=float)\n",
    "\n"
   ]
  },
  {
   "cell_type": "code",
   "execution_count": 7,
   "metadata": {},
   "outputs": [
    {
     "data": {
      "text/plain": [
       "array([ True,  True,  True])"
      ]
     },
     "execution_count": 7,
     "metadata": {},
     "output_type": "execute_result"
    }
   ],
   "source": [
    "#Creating our own array using bool datatype\n",
    "# Now we will get the output as true beacause any non zero value is considered as true by python\n",
    "\n",
    "np.array([1,2,3],dtype=bool)"
   ]
  },
  {
   "cell_type": "code",
   "execution_count": 8,
   "metadata": {},
   "outputs": [
    {
     "data": {
      "text/plain": [
       "array([1.+0.j, 2.+0.j, 3.+0.j])"
      ]
     },
     "execution_count": 8,
     "metadata": {},
     "output_type": "execute_result"
    }
   ],
   "source": [
    "# We can also make an array of complex data type\n",
    "#Although we won't use complex for the maximum times we will use float\n",
    "\n",
    "np.array([1,2,3],dtype=complex)"
   ]
  },
  {
   "cell_type": "code",
   "execution_count": 9,
   "metadata": {},
   "outputs": [
    {
     "name": "stdout",
     "output_type": "stream",
     "text": [
      "[ 1  2  3  4  5  6  7  8  9 10]\n",
      "[1 3 5 7 9]\n"
     ]
    }
   ],
   "source": [
    "# np.arange -> Let's say we want a range of numbers in an array so we can \n",
    "# do this by using np. range , we can specify a range here \n",
    "# we follow index slicing here\n",
    "\n",
    "range1 = np.arange(1,11)\n",
    "print(range1)\n",
    "\n",
    "#with strides so we can get alternate numbers\n",
    "\n",
    "range2 = np.arange(1,11,2)\n",
    "print(range2)"
   ]
  },
  {
   "cell_type": "markdown",
   "metadata": {},
   "source": [
    "np.arange \n",
    "\n",
    "start: The starting value of the sequence.\n",
    "stop: The end value of the sequence (exclusive).\n",
    "step: The difference between each pair of consecutive values.\n",
    "dtype: The desired data-type for the array (optional).\n",
    "\n",
    "here we have start stop and increase value by two"
   ]
  },
  {
   "cell_type": "code",
   "execution_count": 10,
   "metadata": {},
   "outputs": [
    {
     "data": {
      "text/plain": [
       "array([[ 1,  2],\n",
       "       [ 3,  4],\n",
       "       [ 5,  6],\n",
       "       [ 7,  8],\n",
       "       [ 9, 10]])"
      ]
     },
     "execution_count": 10,
     "metadata": {},
     "output_type": "execute_result"
    }
   ],
   "source": [
    "# with reshape , if we want to convert this into 5 x 2\n",
    "\n",
    "np.arange(1,11).reshape(5,2)"
   ]
  },
  {
   "cell_type": "code",
   "execution_count": 11,
   "metadata": {},
   "outputs": [
    {
     "data": {
      "text/plain": [
       "array([[ 1,  2,  3,  4,  5],\n",
       "       [ 6,  7,  8,  9, 10]])"
      ]
     },
     "execution_count": 11,
     "metadata": {},
     "output_type": "execute_result"
    }
   ],
   "source": [
    "# the product of two numbers should be equal to the numbers that are inside the array\n",
    "\n",
    "np.arange(1,11).reshape(2,5)"
   ]
  },
  {
   "cell_type": "code",
   "execution_count": 12,
   "metadata": {},
   "outputs": [
    {
     "data": {
      "text/plain": [
       "array([[ 1,  2,  3,  4,  5],\n",
       "       [ 6,  7,  8,  9, 10],\n",
       "       [11, 12, 13, 14, 15],\n",
       "       [16, 17, 18, 19, 20],\n",
       "       [21, 22, 23, 24, 25]])"
      ]
     },
     "execution_count": 12,
     "metadata": {},
     "output_type": "execute_result"
    }
   ],
   "source": [
    "np.arange(1,26).reshape(5,5)"
   ]
  },
  {
   "cell_type": "code",
   "execution_count": 13,
   "metadata": {},
   "outputs": [
    {
     "data": {
      "text/plain": [
       "array([[1., 1., 1., 1.],\n",
       "       [1., 1., 1., 1.],\n",
       "       [1., 1., 1., 1.]])"
      ]
     },
     "execution_count": 13,
     "metadata": {},
     "output_type": "execute_result"
    }
   ],
   "source": [
    "#np.ones and np.zeros\n",
    "\n",
    "np.ones((3,4))"
   ]
  },
  {
   "cell_type": "code",
   "execution_count": 15,
   "metadata": {},
   "outputs": [
    {
     "name": "stdout",
     "output_type": "stream",
     "text": [
      "[0. 0. 0. 0. 0.]\n",
      "[[0. 0. 0.]\n",
      " [0. 0. 0.]]\n",
      "[[[0. 0.]\n",
      "  [0. 0.]]\n",
      "\n",
      " [[0. 0.]\n",
      "  [0. 0.]]]\n"
     ]
    }
   ],
   "source": [
    "#np.zeros -> This is used to create an array full of zeros\n",
    "\n",
    "# Create a 1-D array of zeros with length 5\n",
    "array_1d = np.zeros(5)\n",
    "print(array_1d)  # Output: [0. 0. 0. 0. 0.]\n",
    "\n",
    "# Create a 2-D array of zeros with 2 rows and 3 columns\n",
    "array_2d = np.zeros((2, 3))\n",
    "print(array_2d)\n",
    "# Output:\n",
    "# [[0. 0. 0.]\n",
    "#  [0. 0. 0.]]\n",
    "\n",
    "# Create a 3-D array of zeros with shape (2, 2, 2)\n",
    "array_3d = np.zeros((2, 2, 2))\n",
    "print(array_3d)\n",
    "# Output:\n",
    "# [[[0. 0.]\n",
    "#   [0. 0.]]\n",
    "#\n",
    "#  [[0. 0.]\n",
    "#   [0. 0.]]]\n"
   ]
  },
  {
   "cell_type": "markdown",
   "metadata": {},
   "source": [
    "np.ones and np.zeros are indeed helpful when creating neural networks. They are often used for initializing the weights and biases of the neural network layers. Proper initialization is crucial for the training process of neural networks, as it can significantly affect the convergence speed and overall performance.\n",
    "\n",
    "So whenever we want to initialize values quickly we should use this"
   ]
  },
  {
   "cell_type": "code",
   "execution_count": 16,
   "metadata": {},
   "outputs": [
    {
     "name": "stdout",
     "output_type": "stream",
     "text": [
      "[1. 1. 1. 1. 1.]\n",
      "[[1. 1. 1.]\n",
      " [1. 1. 1.]]\n",
      "[[[1. 1.]\n",
      "  [1. 1.]]\n",
      "\n",
      " [[1. 1.]\n",
      "  [1. 1.]]]\n"
     ]
    }
   ],
   "source": [
    "#np.ones -> This is used to create an array full of ones\n",
    "\n",
    "# Create a 1-D array of ones with length 5\n",
    "array_1d = np.ones(5)\n",
    "print(array_1d)  # Output: [1. 1. 1. 1. 1.]\n",
    "\n",
    "# Create a 2-D array of ones with 2 rows and 3 columns\n",
    "array_2d = np.ones((2, 3))\n",
    "print(array_2d)\n",
    "# Output:\n",
    "# [[1. 1. 1.]\n",
    "#  [1. 1. 1.]]\n",
    "\n",
    "# Create a 3-D array of ones with shape (2, 2, 2)\n",
    "array_3d = np.ones((2, 2, 2))\n",
    "print(array_3d)\n",
    "# Output:\n",
    "# [[[1. 1.]\n",
    "#   [1. 1.]]\n",
    "#\n",
    "#  [[1. 1.]\n",
    "#   [1. 1.]]]"
   ]
  },
  {
   "cell_type": "markdown",
   "metadata": {},
   "source": [
    "np.random is a submodule of NumPy used for generating random numbers and performing random sampling. It provides a wide range of functions to create arrays of random numbers from various distributions, which is useful for simulations, statistical analysis, and other applications that require randomness.\n",
    "\n",
    "In case we want to initialize random values"
   ]
  },
  {
   "cell_type": "code",
   "execution_count": 14,
   "metadata": {},
   "outputs": [
    {
     "data": {
      "text/plain": [
       "array([[0.20299485, 0.85906174, 0.24800926, 0.15744175],\n",
       "       [0.39672091, 0.79461995, 0.96288999, 0.67287128],\n",
       "       [0.79530997, 0.74658763, 0.19863769, 0.54152151]])"
      ]
     },
     "execution_count": 14,
     "metadata": {},
     "output_type": "execute_result"
    }
   ],
   "source": [
    "#np.random\n",
    "\n",
    "np.random.random((3,4))"
   ]
  },
  {
   "cell_type": "code",
   "execution_count": 17,
   "metadata": {},
   "outputs": [
    {
     "data": {
      "text/plain": [
       "array([-10.        ,  -7.77777778,  -5.55555556,  -3.33333333,\n",
       "        -1.11111111,   1.11111111,   3.33333333,   5.55555556,\n",
       "         7.77777778,  10.        ])"
      ]
     },
     "execution_count": 17,
     "metadata": {},
     "output_type": "execute_result"
    }
   ],
   "source": [
    "#np.linspace -> This has three parameters lower range , upper range and number of items\n",
    "# This is important\n",
    "\n",
    "np.linspace(-10,10,10) #we got the default value as float beacuse float is more useful"
   ]
  },
  {
   "cell_type": "markdown",
   "metadata": {},
   "source": [
    "What does linspace do ?\n",
    "-> So this generates points on equal distance in a given range"
   ]
  },
  {
   "cell_type": "code",
   "execution_count": 18,
   "metadata": {},
   "outputs": [
    {
     "data": {
      "text/plain": [
       "array([[1., 0., 0.],\n",
       "       [0., 1., 0.],\n",
       "       [0., 0., 1.]])"
      ]
     },
     "execution_count": 18,
     "metadata": {},
     "output_type": "execute_result"
    }
   ],
   "source": [
    "#np.identity -> we can create an identity matrix\n",
    "# basically the diagonal items are one and the rest of the items are zeros\n",
    "\n",
    "np.identity(3)"
   ]
  },
  {
   "cell_type": "code",
   "execution_count": 28,
   "metadata": {},
   "outputs": [
    {
     "name": "stdout",
     "output_type": "stream",
     "text": [
      "(2, 3, 2)\n"
     ]
    }
   ],
   "source": [
    "array1 = np.array([[1,2],[2,3]])\n",
    "array_3d = np.array([[[1, 2], [3, 4], [5, 6]], \n",
    "                     [[7, 8], [9, 10], [11, 12]]])\n",
    "\n",
    "print(array_3d.shape)\n",
    "\n",
    "# 2d arrays stacked on top of each other are 3d arrays"
   ]
  },
  {
   "cell_type": "code",
   "execution_count": 36,
   "metadata": {},
   "outputs": [
    {
     "data": {
      "text/plain": [
       "array([[[1, 2],\n",
       "        [2, 3],\n",
       "        [3, 4]],\n",
       "\n",
       "       [[2, 3],\n",
       "        [3, 4],\n",
       "        [4, 5]]])"
      ]
     },
     "execution_count": 36,
     "metadata": {},
     "output_type": "execute_result"
    }
   ],
   "source": [
    "np.array([[[1,2],[2,3],[3,4]],\n",
    "         [[2,3],[3,4],[4,5]]])"
   ]
  },
  {
   "cell_type": "markdown",
   "metadata": {},
   "source": [
    "Numpy arrays are by default float"
   ]
  },
  {
   "cell_type": "markdown",
   "metadata": {},
   "source": []
  }
 ],
 "metadata": {
  "kernelspec": {
   "display_name": "Python 3",
   "language": "python",
   "name": "python3"
  },
  "language_info": {
   "codemirror_mode": {
    "name": "ipython",
    "version": 3
   },
   "file_extension": ".py",
   "mimetype": "text/x-python",
   "name": "python",
   "nbconvert_exporter": "python",
   "pygments_lexer": "ipython3",
   "version": "3.12.1"
  }
 },
 "nbformat": 4,
 "nbformat_minor": 2
}
